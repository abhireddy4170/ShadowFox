{
  "metadata": {
    "kernelspec": {
      "name": "python",
      "display_name": "Python (Pyodide)",
      "language": "python"
    },
    "language_info": {
      "codemirror_mode": {
        "name": "python",
        "version": 3
      },
      "file_extension": ".py",
      "mimetype": "text/x-python",
      "name": "python",
      "nbconvert_exporter": "python",
      "pygments_lexer": "ipython3",
      "version": "3.8"
    }
  },
  "nbformat_minor": 5,
  "nbformat": 4,
  "cells": [
    {
      "id": "fc3bef9f-a428-47b3-83f1-2e39ad201265",
      "cell_type": "code",
      "source": "def bodymassindex(height,weight):\n    bmi=weight/(height*height)\n    return bmi\n\nheight=float(input(\"Enter height in meters:\"))\nweight=float(input(\"Enter weight in kilograms:\"))\nbmi=bodymassindex(height,weight)\nprint(\"bodymassindex : \",bmi)\nif(bmi>=30):\n    print(\"Obesity\")\nelif(bmi>25 and bmi<=29.0):\n    print(\"Overweight\")\nelif(bmi>=18.5 and bmi<=25):\n    print(\"Normal\")\nelse:\n    print(\"UnderWeight\")\n    ",
      "metadata": {
        "trusted": true
      },
      "outputs": [
        {
          "output_type": "stream",
          "name": "stdin",
          "text": "Enter height in meters: 1.6764\nEnter weight in kilograms: 52\n"
        },
        {
          "name": "stdout",
          "output_type": "stream",
          "text": "bodymassindex :  18.503250964261344\nNormal\n"
        }
      ],
      "execution_count": 14
    },
    {
      "id": "bd2af900-0274-4be4-a375-77cfb6c465e6",
      "cell_type": "code",
      "source": "Australia = [\"Sydney\" , \"Melbourne\" , \"Brisbane\" , \"Perth\"]\nUAE = [\"Dubai\" , \"Abu Dhabi\" , \"Sharjah\" , \"Ajman\"] \nIndia = [\"Mumbai\" , \"Bangalore\" , \"Chennai\" , \"Delhi\"]\ncity=input(\"Enter the city name;\\n\")\nif city in Australia:\n    print(\"{} is in Australia\".format(city))\nif city in UAE:\n    print(\"{} is in UAE\".format(city))\nif city in India:\n    print(\"{} is in India\".format(city))",
      "metadata": {
        "trusted": true
      },
      "outputs": [
        {
          "output_type": "stream",
          "name": "stdin",
          "text": "Enter the city name;\n Mumbai\n"
        },
        {
          "name": "stdout",
          "output_type": "stream",
          "text": "Mumbai is in India\n"
        }
      ],
      "execution_count": 18
    },
    {
      "id": "bea78cb0-71f3-4af4-a2da-30c1c9062d9e",
      "cell_type": "code",
      "source": "Australia = [\"Sydney\" , \"Melbourne\" , \"Brisbane\" , \"Perth\"]\nUAE = [\"Dubai\" , \"Abu Dhabi\" , \"Sharjah\" , \"Ajman\"] \nIndia = [\"Mumbai\" , \"Bangalore\" , \"Chennai\" , \"Delhi\"]\ncity1=input(\"Enter the first city name;\\n\")\ncity2=input(\"Enter the second city name;\\n\")\nif city1 and city2 in Australia or UAE or India:\n    print(\"Both cities are in India\")\nelse:\n    print(\"They don't belong to the same country\")",
      "metadata": {
        "trusted": true
      },
      "outputs": [
        {
          "output_type": "stream",
          "name": "stdin",
          "text": "Enter the first city name;\n Mumbai\nEnter the second city name;\n Delhi\n"
        },
        {
          "name": "stdout",
          "output_type": "stream",
          "text": "Both cities are in India\n"
        }
      ],
      "execution_count": 19
    },
    {
      "id": "2e9d0974-08b1-4dc4-b9a9-503a8070f864",
      "cell_type": "code",
      "source": "import random\ndef rolladie():\n     return random.randint(1,6)\ntwosixcount=0\nsixcount=0\nonecount=0\nfor i in range(20):\n    temp=rolladie()\n    if(temp==6):\n        sixcount+=1\n        temp1=temp\n        if(temp1==temp):\n            twosixcount+=1\n    if(temp==1):\n        onecount+=1\nprint(\"die rolled a 6 is {} times\".format(sixcount))\nprint(\"die rolled a 1 is {} times\".format(onecount))\nprint(\"die rolled a two 6 in a row is {} times\".format(twosixcount))\n",
      "metadata": {
        "trusted": true
      },
      "outputs": [
        {
          "name": "stdout",
          "output_type": "stream",
          "text": "die rolled a 6 is 2 times\ndie rolled a 1 is 7 times\ndie rolled a two 6 in a row is 2 times\n"
        }
      ],
      "execution_count": 48
    },
    {
      "id": "2a534516-bee7-43fd-9d58-9eea58660add",
      "cell_type": "code",
      "source": "jumpingjacks=0\ntarget=100\nwhile(jumpingjacks<target):\n    jumpingjacks+=10\n    if(jumpingjacks==100):\n        print(\"Congratulations! You completed the workout,\")\n        break\n    response=input(\" Are you tired?\").lower() #for lower casing the user input\n    if(response=='yes' or response=='y'):\n        innerresponse=input(\" DO u want to skip the remaining sets?\").lower()\n        if(innerresponse=='yes' or innerresponse=='y'):\n            print(\"You completed a total of {} jumping jacks\".format(jumpingjacks))\n            break\n        else :\n            print(\" {} jumping jacks left\".format(target-jumpingjacks))\n    else:\n            print(\" {} jumping jacks left\".format(target-jumpingjacks))\n",
      "metadata": {
        "trusted": true
      },
      "outputs": [
        {
          "output_type": "stream",
          "name": "stdin",
          "text": " Are you tired? n\n"
        },
        {
          "name": "stdout",
          "output_type": "stream",
          "text": " 90 jumping jacks left\n"
        },
        {
          "output_type": "stream",
          "name": "stdin",
          "text": " Are you tired? n\n"
        },
        {
          "name": "stdout",
          "output_type": "stream",
          "text": " 80 jumping jacks left\n"
        },
        {
          "output_type": "stream",
          "name": "stdin",
          "text": " Are you tired? y\n DO u want to skip the remaining sets? y\n"
        },
        {
          "name": "stdout",
          "output_type": "stream",
          "text": "You completed a total of 30 jumping jacks\n"
        }
      ],
      "execution_count": 57
    },
    {
      "id": "be4c6f87-1247-4481-948a-0f95a664df8c",
      "cell_type": "code",
      "source": "friends=['abhishek','shubham','gourav','sandeep','venkatesh']\nnames_length=[]\nfor i in range len(friends):\n\n\n\n",
      "metadata": {
        "trusted": true
      },
      "outputs": [],
      "execution_count": null
    }
  ]
}