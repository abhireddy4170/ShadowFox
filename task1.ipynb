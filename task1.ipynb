{
  "metadata": {
    "kernelspec": {
      "name": "python",
      "display_name": "Python (Pyodide)",
      "language": "python"
    },
    "language_info": {
      "codemirror_mode": {
        "name": "python",
        "version": 3
      },
      "file_extension": ".py",
      "mimetype": "text/x-python",
      "name": "python",
      "nbconvert_exporter": "python",
      "pygments_lexer": "ipython3",
      "version": "3.8"
    }
  },
  "nbformat_minor": 5,
  "nbformat": 4,
  "cells": [
    {
      "id": "056ed3ba-69db-4daf-a92e-202cd2120f72",
      "cell_type": "code",
      "source": "pi=22/7\nprint(type(pi))\n#variable automatically detects the data type based on the assigining value\nx=10\nprint(type(x))\ny=\"hello\"\nprint(type(y))\n",
      "metadata": {
        "trusted": true
      },
      "outputs": [
        {
          "name": "stdout",
          "output_type": "stream",
          "text": "<class 'float'>\n<class 'int'>\n<class 'str'>\n<class 'str'>\n"
        }
      ],
      "execution_count": 11
    },
    {
      "id": "c0ba3840-6cda-4c46-a2cb-46c39f3d4660",
      "cell_type": "code",
      "source": "for=4\n#for is a keyword we cannot use it as a varible",
      "metadata": {
        "trusted": true
      },
      "outputs": [
        {
          "ename": "<class 'SyntaxError'>",
          "evalue": "invalid syntax (<ipython-input-6-cc2bfc04c536>, line 1)",
          "traceback": [
            "\u001b[0;36m  Cell \u001b[0;32mIn[6], line 1\u001b[0;36m\u001b[0m\n\u001b[0;31m    for=4\u001b[0m\n\u001b[0m       ^\u001b[0m\n\u001b[0;31mSyntaxError\u001b[0m\u001b[0;31m:\u001b[0m invalid syntax\n"
          ],
          "output_type": "error"
        }
      ],
      "execution_count": 6
    },
    {
      "id": "cc91edca-8c5d-4a4e-869d-96fb814cdd76",
      "cell_type": "code",
      "source": "principalAmount=100000\nrateOfIntrest=11\ntime=3\nsimpleIntrest= (principalAmount*rateOfIntrest*time)/100\nprint(\"simple intrest :\",simpleIntrest)",
      "metadata": {
        "trusted": true
      },
      "outputs": [
        {
          "name": "stdout",
          "output_type": "stream",
          "text": "simple intrest : 33000.0\n"
        }
      ],
      "execution_count": 25
    },
    {
      "id": "fcebc719-add0-4469-9b45-e9a9f94f99fb",
      "cell_type": "code",
      "source": "def format_string(number,char):\n    return \" The Number is {} and the char is {}\".format(number,char)\n    #format() method is a built-in string method used for formatting strings by inserting valuse in the placeholders{}\nresult=format_string(145,'o')\nprint(result)",
      "metadata": {
        "trusted": true
      },
      "outputs": [
        {
          "name": "stdout",
          "output_type": "stream",
          "text": " The Number is o and the char is145\n"
        }
      ],
      "execution_count": 22
    },
    {
      "id": "74f64ee2-3039-4915-8302-374f778505c2",
      "cell_type": "code",
      "source": "def circle_area(pi,radius):\n    area=pi*radius*radius\n    return area\n\ndef waterInpond(area,waterPersquareMeter):\n    waterInPond=area*waterPersquareMeter\n    return  waterInPond\n    \narea=circle_area(3.14,84)\nprint(\"area of the pond: \",area)\n\nwater=waterInpond(area,1.4)\nprint(\"water in the pond: {} Cubic meters\".format(int(water)))\n",
      "metadata": {
        "trusted": true
      },
      "outputs": [
        {
          "name": "stdout",
          "output_type": "stream",
          "text": "area of the pond:  22155.84\nwater in the pond: 31018 Cubic meters\n"
        }
      ],
      "execution_count": 40
    },
    {
      "id": "bc123895-f6c8-4e93-a5e9-3741afe0a128",
      "cell_type": "code",
      "source": " def speedFunction(distance,time):\n     time=time*60\n     speed=distance/time\n     return speed\n     \n      \nvelocity=speedFunction(490,7)\nprint(\"speed : {} meters per second \".format(int(velocity)))",
      "metadata": {
        "trusted": true
      },
      "outputs": [
        {
          "name": "stdout",
          "output_type": "stream",
          "text": "speed : 1 meters per second \n"
        }
      ],
      "execution_count": 43
    },
    {
      "id": "b2f19e47-43c7-46e7-ba1b-7da72a646c1e",
      "cell_type": "code",
      "source": "justice_league = [\"Superman\",\"Batman\",\"WonderWoman\",\"Flash\",\"Aquaman\",\"Green Lantern\"]\nprint(\"number of members in the Justice League:\",len(justice_league))\n\njustice_league.extend([\"Batgirl\",\"Nightwing\"])\nprint(\"after recruting:\",justice_league)\n\njustice_league[2],justice_league[0]=justice_league[0],justice_league[2]\nprint(\"wonder Woman becom leader :\",justice_league)\n\njustice_league[4],justice_league[5]=justice_league[5],justice_league[4]\nprint(\"flash and aquaman have conflicts :\",justice_league)\n\njustice_league=[\"Superman\",\"Cyborg\",\"Shazam\",\"Hawkgirl\",\"MartianManhunter\",\"Green Arrow\"]\nprint(\"Superman formed a new team :\",justice_league)\n\njustice_league.sort()\nprint(\"After sorting :\",justice_league)\nprint(\"the new leader is :\\n\",justice_league[0])",
      "metadata": {
        "trusted": true
      },
      "outputs": [
        {
          "name": "stdout",
          "output_type": "stream",
          "text": "number of members in the Justice League: 6\nafter recruting: ['Superman', 'Batman', 'WonderWoman', 'Flash', 'Aquaman', 'Green Lantern', 'Batgirl', 'Nightwing']\nwonder Woman becom leader : ['WonderWoman', 'Batman', 'Superman', 'Flash', 'Aquaman', 'Green Lantern', 'Batgirl', 'Nightwing']\nflash and aquaman have conflicts : ['WonderWoman', 'Batman', 'Superman', 'Flash', 'Green Lantern', 'Aquaman', 'Batgirl', 'Nightwing']\nSuperman formed a new team : ['Superman', 'Cyborg', 'Shazam', 'Hawkgirl', 'MartianManhunter', 'Green Arrow']\nAfter sorting : ['Cyborg', 'Green Arrow', 'Hawkgirl', 'MartianManhunter', 'Shazam', 'Superman']\nthe new leader is :\n Cyborg\n"
        }
      ],
      "execution_count": 59
    },
    {
      "id": "99b1443f-0f95-44c9-8bdc-d60ef4092da7",
      "cell_type": "code",
      "source": "",
      "metadata": {
        "trusted": true
      },
      "outputs": [],
      "execution_count": null
    }
  ]
}